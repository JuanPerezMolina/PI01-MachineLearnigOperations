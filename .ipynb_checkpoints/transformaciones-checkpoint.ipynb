{
 "cells": [
  {
   "attachments": {},
   "cell_type": "markdown",
   "metadata": {},
   "source": [
    "# Proyecto Individual No 1\n",
    "## Data Engineering"
   ]
  },
  {
   "cell_type": "code",
   "execution_count": 113,
   "metadata": {},
   "outputs": [],
   "source": [
    "import pandas as pd\n"
   ]
  },
  {
   "attachments": {},
   "cell_type": "markdown",
   "metadata": {},
   "source": [
    "**Transformación 1**: Generar campo id: Cada id se compondrá de la primera letra del nombre de la plataforma, seguido del show_id ya presente en los datasets (ejemplo para títulos de Amazon = as123)"
   ]
  },
  {
   "cell_type": "code",
   "execution_count": 114,
   "metadata": {},
   "outputs": [
    {
     "name": "stdout",
     "output_type": "stream",
     "text": [
      "Numero de registros del dataframe final: 22998\n"
     ]
    }
   ],
   "source": [
    "lista_plataformas = ['amazon_prime_titles-score.csv',\n",
    "                    'disney_plus_titles-score.csv',\n",
    "                    'hulu_titles-score (2).csv',\n",
    "                    'netflix_titles-score.csv']\n",
    "contador = 0\n",
    "total_registros = 0\n",
    "df_movies = pd.DataFrame()\n",
    "for i in range(0,4): #Usamos una iteración para cargar los cuatro archivos csv en un solo dataframe\n",
    "    df_parcial = pd.read_csv(lista_plataformas[i])\n",
    "    df_parcial['id'] = lista_plataformas[i][0] + df_parcial['show_id']\n",
    "    df_movies = pd.concat([df_movies,df_parcial])\n",
    "    contador = df_movies.shape[0]\n",
    "    total_registros = total_registros + contador\n",
    "print('Numero de registros del dataframe final:', df_movies.shape[0] )\n",
    "\n"
   ]
  },
  {
   "cell_type": "code",
   "execution_count": 115,
   "metadata": {},
   "outputs": [
    {
     "name": "stdout",
     "output_type": "stream",
     "text": [
      "Numero total de registros: 22998\n",
      "Index(['show_id', 'type', 'title', 'director', 'cast', 'country', 'date_added',\n",
      "       'release_year', 'rating', 'duration', 'listed_in', 'description',\n",
      "       'score', 'id'],\n",
      "      dtype='object')\n",
      "<class 'pandas.core.frame.DataFrame'>\n",
      "Int64Index: 22998 entries, 0 to 8806\n",
      "Data columns (total 14 columns):\n",
      " #   Column        Non-Null Count  Dtype \n",
      "---  ------        --------------  ----- \n",
      " 0   show_id       22998 non-null  object\n",
      " 1   type          22998 non-null  object\n",
      " 2   title         22998 non-null  object\n",
      " 3   director      14739 non-null  object\n",
      " 4   cast          17677 non-null  object\n",
      " 5   country       11499 non-null  object\n",
      " 6   date_added    13444 non-null  object\n",
      " 7   release_year  22998 non-null  int64 \n",
      " 8   rating        22134 non-null  object\n",
      " 9   duration      22516 non-null  object\n",
      " 10  listed_in     22998 non-null  object\n",
      " 11  description   22994 non-null  object\n",
      " 12  score         22998 non-null  int64 \n",
      " 13  id            22998 non-null  object\n",
      "dtypes: int64(2), object(12)\n",
      "memory usage: 2.6+ MB\n",
      "None\n"
     ]
    }
   ],
   "source": [
    "\n",
    "print('Numero total de registros:', df_movies.shape[0]) #Consultamos el numero total de registros que posee el dataset\n",
    "print(df_movies.columns) #Consultamos todos los nombres de campos del dataset\n",
    "print(df_movies.info()) #Consultamos el total de datos no nulos por cada campo"
   ]
  },
  {
   "attachments": {},
   "cell_type": "markdown",
   "metadata": {},
   "source": [
    "**Transformación 2**: Los valores nulos del campo rating deberán reemplazarse por el string “G” (corresponde al maturity rating: “general for all audiences”"
   ]
  },
  {
   "cell_type": "code",
   "execution_count": 116,
   "metadata": {},
   "outputs": [],
   "source": [
    "df_movies.fillna({'rating': 'G'}, inplace=True) # Sustituimos los valores nulos (NaN) del campo rating por el string 'G'"
   ]
  },
  {
   "cell_type": "code",
   "execution_count": 117,
   "metadata": {},
   "outputs": [
    {
     "name": "stdout",
     "output_type": "stream",
     "text": [
      "<class 'pandas.core.frame.DataFrame'>\n",
      "Int64Index: 22998 entries, 0 to 8806\n",
      "Data columns (total 14 columns):\n",
      " #   Column        Non-Null Count  Dtype \n",
      "---  ------        --------------  ----- \n",
      " 0   show_id       22998 non-null  object\n",
      " 1   type          22998 non-null  object\n",
      " 2   title         22998 non-null  object\n",
      " 3   director      14739 non-null  object\n",
      " 4   cast          17677 non-null  object\n",
      " 5   country       11499 non-null  object\n",
      " 6   date_added    13444 non-null  object\n",
      " 7   release_year  22998 non-null  int64 \n",
      " 8   rating        22998 non-null  object\n",
      " 9   duration      22516 non-null  object\n",
      " 10  listed_in     22998 non-null  object\n",
      " 11  description   22994 non-null  object\n",
      " 12  score         22998 non-null  int64 \n",
      " 13  id            22998 non-null  object\n",
      "dtypes: int64(2), object(12)\n",
      "memory usage: 2.6+ MB\n",
      "None\n"
     ]
    }
   ],
   "source": [
    "print(df_movies.info()) #Consultamos el total nulos para verificar que se aplicó la transformación en 'rating'"
   ]
  },
  {
   "attachments": {},
   "cell_type": "markdown",
   "metadata": {},
   "source": [
    "**Transformación 3**: De haber fechas, deberán tener el formato AAAA-mm-dd"
   ]
  },
  {
   "cell_type": "code",
   "execution_count": 118,
   "metadata": {},
   "outputs": [
    {
     "data": {
      "text/plain": [
       "0     March 30, 2021\n",
       "1     March 30, 2021\n",
       "2     March 30, 2021\n",
       "3     March 30, 2021\n",
       "4     March 30, 2021\n",
       "5     March 30, 2021\n",
       "6     March 30, 2021\n",
       "7     March 30, 2021\n",
       "8     March 30, 2021\n",
       "9      April 1, 2021\n",
       "10     April 4, 2021\n",
       "11    April 10, 2021\n",
       "12    April 17, 2021\n",
       "13    April 24, 2021\n",
       "14       May 2, 2021\n",
       "15      June 3, 2021\n",
       "16               NaN\n",
       "17               NaN\n",
       "18               NaN\n",
       "19               NaN\n",
       "20               NaN\n",
       "21               NaN\n",
       "22               NaN\n",
       "23               NaN\n",
       "24               NaN\n",
       "25               NaN\n",
       "26               NaN\n",
       "27               NaN\n",
       "28               NaN\n",
       "29               NaN\n",
       "30               NaN\n",
       "31               NaN\n",
       "32               NaN\n",
       "33               NaN\n",
       "34               NaN\n",
       "35               NaN\n",
       "36               NaN\n",
       "37               NaN\n",
       "38               NaN\n",
       "39               NaN\n",
       "40               NaN\n",
       "41               NaN\n",
       "42               NaN\n",
       "43               NaN\n",
       "44               NaN\n",
       "45               NaN\n",
       "46               NaN\n",
       "47               NaN\n",
       "48               NaN\n",
       "49               NaN\n",
       "Name: date_added, dtype: object"
      ]
     },
     "execution_count": 118,
     "metadata": {},
     "output_type": "execute_result"
    }
   ],
   "source": [
    "df_movies['date_added'].head(50) #Consultamos algunos registros para verificar formato de la fecha"
   ]
  },
  {
   "cell_type": "code",
   "execution_count": 119,
   "metadata": {},
   "outputs": [],
   "source": [
    "def numero_mes(string):  #Creamos una función que reciba el nombre del mes y retorne su numero en formato string\n",
    "    meses =['January','February','March','April','May','June','July','August','September','November','December']\n",
    "    string = string.rstrip()\n",
    "    if string in meses:\n",
    "        if   (meses.index(string)+1)<10:\n",
    "            posicion = '0'+str(meses.index(string)+1) #Concatenamos el cero a la derecha cuando el mes sea de un digito \n",
    "        else:\n",
    "            posicion = str(meses.index(string)+1)\n",
    "        return(posicion)\n",
    "    else:\n",
    "        return('00')\n",
    "\n",
    "\n",
    "for i,registro in df_movies.iterrows():\n",
    "    if not pd.isna(registro['date_added']): # Verificamos que el dato fecha no sea nulo (NaN)\n",
    "        string_date = str(registro['date_added']) # Forzamos que sea un string para poder manipular caracter a caracter con slice\n",
    "        year = string_date[-4:]\n",
    "        month = numero_mes(string_date[:-8])\n",
    "        day = string_date[-8:-6]\n",
    "        if int(day)<10:\n",
    "            day = '0'+ day.lstrip() #Concatenamos el cero a la derecha cuando el dia sea de un digito\n",
    "        fecha= year +'-'+ month +'-' + day\n",
    "        df_movies.loc[i,'date_added']=fecha #Modificar la fila del dataframe original utilizando loc o iloc \n",
    "\n"
   ]
  },
  {
   "cell_type": "code",
   "execution_count": 120,
   "metadata": {},
   "outputs": [
    {
     "data": {
      "text/plain": [
       "0     2021-09-25\n",
       "1     2021-09-24\n",
       "2     2021-09-24\n",
       "3     2021-09-24\n",
       "4     2021-09-24\n",
       "5     2021-09-24\n",
       "6     2021-09-24\n",
       "7     2021-09-24\n",
       "8     2021-09-24\n",
       "9     2021-09-24\n",
       "10    2021-09-24\n",
       "11    2021-09-23\n",
       "12    2021-09-23\n",
       "13    2021-09-22\n",
       "14    2021-09-22\n",
       "15    2021-09-22\n",
       "16    2021-09-22\n",
       "17    2021-09-22\n",
       "18    2021-09-22\n",
       "19    2021-09-22\n",
       "20    2021-09-22\n",
       "21    2021-09-22\n",
       "22    2021-09-21\n",
       "23    2021-09-21\n",
       "24    2021-09-21\n",
       "25    2021-09-21\n",
       "26    2021-09-21\n",
       "27    2021-09-20\n",
       "28    2021-09-19\n",
       "29    2021-09-19\n",
       "30    2021-09-17\n",
       "31    2021-09-17\n",
       "32    2021-09-17\n",
       "33    2021-09-17\n",
       "34    2021-09-17\n",
       "35    2021-09-17\n",
       "36    2021-09-17\n",
       "37    2021-09-16\n",
       "38    2021-09-16\n",
       "39    2021-09-16\n",
       "40    2021-09-16\n",
       "41    2021-09-16\n",
       "42    2021-09-16\n",
       "43    2021-09-16\n",
       "44    2021-09-16\n",
       "45    2021-09-16\n",
       "46    2021-09-16\n",
       "47    2021-09-16\n",
       "48    2021-09-16\n",
       "49    2021-09-15\n",
       "Name: date_added, dtype: object"
      ]
     },
     "execution_count": 120,
     "metadata": {},
     "output_type": "execute_result"
    }
   ],
   "source": [
    "df_movies['date_added'].head(50) #Verificamos el formato de algunos registros o filas"
   ]
  },
  {
   "attachments": {},
   "cell_type": "markdown",
   "metadata": {},
   "source": [
    "**Transformación 4**: Los campos de texto deberán estar en minúsculas, sin excepciones"
   ]
  },
  {
   "cell_type": "code",
   "execution_count": 121,
   "metadata": {},
   "outputs": [
    {
     "data": {
      "text/html": [
       "<div>\n",
       "<style scoped>\n",
       "    .dataframe tbody tr th:only-of-type {\n",
       "        vertical-align: middle;\n",
       "    }\n",
       "\n",
       "    .dataframe tbody tr th {\n",
       "        vertical-align: top;\n",
       "    }\n",
       "\n",
       "    .dataframe thead th {\n",
       "        text-align: right;\n",
       "    }\n",
       "</style>\n",
       "<table border=\"1\" class=\"dataframe\">\n",
       "  <thead>\n",
       "    <tr style=\"text-align: right;\">\n",
       "      <th></th>\n",
       "      <th>show_id</th>\n",
       "      <th>type</th>\n",
       "      <th>title</th>\n",
       "      <th>director</th>\n",
       "      <th>cast</th>\n",
       "      <th>country</th>\n",
       "      <th>date_added</th>\n",
       "      <th>release_year</th>\n",
       "      <th>rating</th>\n",
       "      <th>duration</th>\n",
       "      <th>listed_in</th>\n",
       "      <th>description</th>\n",
       "      <th>score</th>\n",
       "      <th>id</th>\n",
       "    </tr>\n",
       "  </thead>\n",
       "  <tbody>\n",
       "    <tr>\n",
       "      <th>0</th>\n",
       "      <td>s1</td>\n",
       "      <td>Movie</td>\n",
       "      <td>The Grand Seduction</td>\n",
       "      <td>Don McKellar</td>\n",
       "      <td>Brendan Gleeson, Taylor Kitsch, Gordon Pinsent</td>\n",
       "      <td>Canada</td>\n",
       "      <td>2021-09-25</td>\n",
       "      <td>2014</td>\n",
       "      <td>G</td>\n",
       "      <td>113 min</td>\n",
       "      <td>Comedy, Drama</td>\n",
       "      <td>A small fishing village must procure a local d...</td>\n",
       "      <td>99</td>\n",
       "      <td>as1</td>\n",
       "    </tr>\n",
       "    <tr>\n",
       "      <th>1</th>\n",
       "      <td>s2</td>\n",
       "      <td>Movie</td>\n",
       "      <td>Take Care Good Night</td>\n",
       "      <td>Girish Joshi</td>\n",
       "      <td>Mahesh Manjrekar, Abhay Mahajan, Sachin Khedekar</td>\n",
       "      <td>India</td>\n",
       "      <td>2021-09-24</td>\n",
       "      <td>2018</td>\n",
       "      <td>13+</td>\n",
       "      <td>110 min</td>\n",
       "      <td>Drama, International</td>\n",
       "      <td>A Metro Family decides to fight a Cyber Crimin...</td>\n",
       "      <td>37</td>\n",
       "      <td>as2</td>\n",
       "    </tr>\n",
       "  </tbody>\n",
       "</table>\n",
       "</div>"
      ],
      "text/plain": [
       "  show_id   type                 title      director  \\\n",
       "0      s1  Movie   The Grand Seduction  Don McKellar   \n",
       "1      s2  Movie  Take Care Good Night  Girish Joshi   \n",
       "\n",
       "                                               cast country  date_added  \\\n",
       "0    Brendan Gleeson, Taylor Kitsch, Gordon Pinsent  Canada  2021-09-25   \n",
       "1  Mahesh Manjrekar, Abhay Mahajan, Sachin Khedekar   India  2021-09-24   \n",
       "\n",
       "   release_year rating duration             listed_in  \\\n",
       "0          2014      G  113 min         Comedy, Drama   \n",
       "1          2018    13+  110 min  Drama, International   \n",
       "\n",
       "                                         description  score   id  \n",
       "0  A small fishing village must procure a local d...     99  as1  \n",
       "1  A Metro Family decides to fight a Cyber Crimin...     37  as2  "
      ]
     },
     "execution_count": 121,
     "metadata": {},
     "output_type": "execute_result"
    }
   ],
   "source": [
    "df_movies.head(2) #Consultamos algunos registros para verificar cuales son los campos tipo texto"
   ]
  },
  {
   "cell_type": "code",
   "execution_count": 122,
   "metadata": {},
   "outputs": [
    {
     "data": {
      "text/html": [
       "<div>\n",
       "<style scoped>\n",
       "    .dataframe tbody tr th:only-of-type {\n",
       "        vertical-align: middle;\n",
       "    }\n",
       "\n",
       "    .dataframe tbody tr th {\n",
       "        vertical-align: top;\n",
       "    }\n",
       "\n",
       "    .dataframe thead th {\n",
       "        text-align: right;\n",
       "    }\n",
       "</style>\n",
       "<table border=\"1\" class=\"dataframe\">\n",
       "  <thead>\n",
       "    <tr style=\"text-align: right;\">\n",
       "      <th></th>\n",
       "      <th>show_id</th>\n",
       "      <th>type</th>\n",
       "      <th>title</th>\n",
       "      <th>director</th>\n",
       "      <th>cast</th>\n",
       "      <th>country</th>\n",
       "      <th>date_added</th>\n",
       "      <th>release_year</th>\n",
       "      <th>rating</th>\n",
       "      <th>duration</th>\n",
       "      <th>listed_in</th>\n",
       "      <th>description</th>\n",
       "      <th>score</th>\n",
       "      <th>id</th>\n",
       "    </tr>\n",
       "  </thead>\n",
       "  <tbody>\n",
       "    <tr>\n",
       "      <th>0</th>\n",
       "      <td>s1</td>\n",
       "      <td>movie</td>\n",
       "      <td>the grand seduction</td>\n",
       "      <td>don mckellar</td>\n",
       "      <td>brendan gleeson, taylor kitsch, gordon pinsent</td>\n",
       "      <td>canada</td>\n",
       "      <td>2021-09-25</td>\n",
       "      <td>2014</td>\n",
       "      <td>G</td>\n",
       "      <td>113 min</td>\n",
       "      <td>comedy, drama</td>\n",
       "      <td>a small fishing village must procure a local d...</td>\n",
       "      <td>99</td>\n",
       "      <td>as1</td>\n",
       "    </tr>\n",
       "    <tr>\n",
       "      <th>1</th>\n",
       "      <td>s2</td>\n",
       "      <td>movie</td>\n",
       "      <td>take care good night</td>\n",
       "      <td>girish joshi</td>\n",
       "      <td>mahesh manjrekar, abhay mahajan, sachin khedekar</td>\n",
       "      <td>india</td>\n",
       "      <td>2021-09-24</td>\n",
       "      <td>2018</td>\n",
       "      <td>13+</td>\n",
       "      <td>110 min</td>\n",
       "      <td>drama, international</td>\n",
       "      <td>a metro family decides to fight a cyber crimin...</td>\n",
       "      <td>37</td>\n",
       "      <td>as2</td>\n",
       "    </tr>\n",
       "  </tbody>\n",
       "</table>\n",
       "</div>"
      ],
      "text/plain": [
       "  show_id   type                 title      director  \\\n",
       "0      s1  movie   the grand seduction  don mckellar   \n",
       "1      s2  movie  take care good night  girish joshi   \n",
       "\n",
       "                                               cast country  date_added  \\\n",
       "0    brendan gleeson, taylor kitsch, gordon pinsent  canada  2021-09-25   \n",
       "1  mahesh manjrekar, abhay mahajan, sachin khedekar   india  2021-09-24   \n",
       "\n",
       "   release_year rating duration             listed_in  \\\n",
       "0          2014      G  113 min         comedy, drama   \n",
       "1          2018    13+  110 min  drama, international   \n",
       "\n",
       "                                         description  score   id  \n",
       "0  a small fishing village must procure a local d...     99  as1  \n",
       "1  a metro family decides to fight a cyber crimin...     37  as2  "
      ]
     },
     "execution_count": 122,
     "metadata": {},
     "output_type": "execute_result"
    }
   ],
   "source": [
    "#Aplicamos la funcion lower() a los campos de tipo string que se requieren en minusculas\n",
    "df_movies['type'] = df_movies['type'].str.lower()\n",
    "df_movies['title'] = df_movies['title'].str.lower()\n",
    "df_movies['director'] = df_movies['director'].str.lower()\n",
    "df_movies['cast'] = df_movies['cast'].str.lower()\n",
    "df_movies['country'] = df_movies['country'].str.lower()\n",
    "df_movies['duration'] = df_movies['duration'].str.lower()\n",
    "df_movies['listed_in'] = df_movies['listed_in'].str.lower()\n",
    "df_movies['description'] = df_movies['description'].str.lower()\n",
    "df_movies.head(2) # Verificamos que se realizó la trasnformación consultando algunos registros"
   ]
  },
  {
   "attachments": {},
   "cell_type": "markdown",
   "metadata": {},
   "source": [
    "\n",
    "**Transformación 5**: El campo duration debe convertirse en dos campos: duration_int y duration_type. El primero será un integer y el segundo un string indicando la unidad de medición de duración: min (minutos) o season (temporadas)"
   ]
  },
  {
   "cell_type": "code",
   "execution_count": 123,
   "metadata": {},
   "outputs": [
    {
     "data": {
      "text/html": [
       "<div>\n",
       "<style scoped>\n",
       "    .dataframe tbody tr th:only-of-type {\n",
       "        vertical-align: middle;\n",
       "    }\n",
       "\n",
       "    .dataframe tbody tr th {\n",
       "        vertical-align: top;\n",
       "    }\n",
       "\n",
       "    .dataframe thead th {\n",
       "        text-align: right;\n",
       "    }\n",
       "</style>\n",
       "<table border=\"1\" class=\"dataframe\">\n",
       "  <thead>\n",
       "    <tr style=\"text-align: right;\">\n",
       "      <th></th>\n",
       "      <th>show_id</th>\n",
       "      <th>type</th>\n",
       "      <th>title</th>\n",
       "      <th>director</th>\n",
       "      <th>cast</th>\n",
       "      <th>country</th>\n",
       "      <th>date_added</th>\n",
       "      <th>release_year</th>\n",
       "      <th>rating</th>\n",
       "      <th>duration</th>\n",
       "      <th>listed_in</th>\n",
       "      <th>description</th>\n",
       "      <th>score</th>\n",
       "      <th>id</th>\n",
       "      <th>duration_int</th>\n",
       "      <th>duration_type</th>\n",
       "    </tr>\n",
       "  </thead>\n",
       "  <tbody>\n",
       "    <tr>\n",
       "      <th>0</th>\n",
       "      <td>s1</td>\n",
       "      <td>movie</td>\n",
       "      <td>the grand seduction</td>\n",
       "      <td>don mckellar</td>\n",
       "      <td>brendan gleeson, taylor kitsch, gordon pinsent</td>\n",
       "      <td>canada</td>\n",
       "      <td>2021-09-25</td>\n",
       "      <td>2014</td>\n",
       "      <td>G</td>\n",
       "      <td>113 min</td>\n",
       "      <td>comedy, drama</td>\n",
       "      <td>a small fishing village must procure a local d...</td>\n",
       "      <td>99</td>\n",
       "      <td>as1</td>\n",
       "      <td>113</td>\n",
       "      <td>min</td>\n",
       "    </tr>\n",
       "    <tr>\n",
       "      <th>1</th>\n",
       "      <td>s2</td>\n",
       "      <td>movie</td>\n",
       "      <td>take care good night</td>\n",
       "      <td>girish joshi</td>\n",
       "      <td>mahesh manjrekar, abhay mahajan, sachin khedekar</td>\n",
       "      <td>india</td>\n",
       "      <td>2021-09-24</td>\n",
       "      <td>2018</td>\n",
       "      <td>13+</td>\n",
       "      <td>110 min</td>\n",
       "      <td>drama, international</td>\n",
       "      <td>a metro family decides to fight a cyber crimin...</td>\n",
       "      <td>37</td>\n",
       "      <td>as2</td>\n",
       "      <td>110</td>\n",
       "      <td>min</td>\n",
       "    </tr>\n",
       "  </tbody>\n",
       "</table>\n",
       "</div>"
      ],
      "text/plain": [
       "  show_id   type                 title      director  \\\n",
       "0      s1  movie   the grand seduction  don mckellar   \n",
       "1      s2  movie  take care good night  girish joshi   \n",
       "\n",
       "                                               cast country  date_added  \\\n",
       "0    brendan gleeson, taylor kitsch, gordon pinsent  canada  2021-09-25   \n",
       "1  mahesh manjrekar, abhay mahajan, sachin khedekar   india  2021-09-24   \n",
       "\n",
       "   release_year rating duration             listed_in  \\\n",
       "0          2014      G  113 min         comedy, drama   \n",
       "1          2018    13+  110 min  drama, international   \n",
       "\n",
       "                                         description  score   id duration_int  \\\n",
       "0  a small fishing village must procure a local d...     99  as1          113   \n",
       "1  a metro family decides to fight a cyber crimin...     37  as2          110   \n",
       "\n",
       "  duration_type  \n",
       "0           min  \n",
       "1           min  "
      ]
     },
     "execution_count": 123,
     "metadata": {},
     "output_type": "execute_result"
    }
   ],
   "source": [
    "#Creamos los campos duration_int y duration_type a partir del campo duration\n",
    "df_movies[['duration_int','duration_type']]=df_movies.duration.str.split(expand=True)\n",
    "df_movies.head(2) # verificamos que fueron creados"
   ]
  },
  {
   "cell_type": "code",
   "execution_count": 134,
   "metadata": {},
   "outputs": [
    {
     "ename": "KeyError",
     "evalue": "\"['duration'] not found in axis\"",
     "output_type": "error",
     "traceback": [
      "\u001b[1;31m---------------------------------------------------------------------------\u001b[0m",
      "\u001b[1;31mKeyError\u001b[0m                                  Traceback (most recent call last)",
      "\u001b[1;32mc:\\Users\\Equipo\\01-Henry-DataScience\\DTS-06\\PI01-Data-Engineering\\transformaciones.ipynb Cell 18\u001b[0m in \u001b[0;36m<module>\u001b[1;34m\u001b[0m\n\u001b[0;32m      <a href='vscode-notebook-cell:/c%3A/Users/Equipo/01-Henry-DataScience/DTS-06/PI01-Data-Engineering/transformaciones.ipynb#X25sZmlsZQ%3D%3D?line=0'>1</a>\u001b[0m \u001b[39m#Eliminamos el campo duration ya que no se va a usar en adelante\u001b[39;00m\n\u001b[1;32m----> <a href='vscode-notebook-cell:/c%3A/Users/Equipo/01-Henry-DataScience/DTS-06/PI01-Data-Engineering/transformaciones.ipynb#X25sZmlsZQ%3D%3D?line=1'>2</a>\u001b[0m df_movies\u001b[39m.\u001b[39;49mdrop([\u001b[39m'\u001b[39;49m\u001b[39mduration\u001b[39;49m\u001b[39m'\u001b[39;49m], axis \u001b[39m=\u001b[39;49m \u001b[39m'\u001b[39;49m\u001b[39mcolumns\u001b[39;49m\u001b[39m'\u001b[39;49m, inplace\u001b[39m=\u001b[39;49m\u001b[39mTrue\u001b[39;49;00m) \n\u001b[0;32m      <a href='vscode-notebook-cell:/c%3A/Users/Equipo/01-Henry-DataScience/DTS-06/PI01-Data-Engineering/transformaciones.ipynb#X25sZmlsZQ%3D%3D?line=2'>3</a>\u001b[0m df_movies\u001b[39m.\u001b[39mhead(\u001b[39m5\u001b[39m)\n",
      "File \u001b[1;32mc:\\Users\\Equipo\\AppData\\Local\\Programs\\Python\\Python39\\lib\\site-packages\\pandas\\util\\_decorators.py:311\u001b[0m, in \u001b[0;36mdeprecate_nonkeyword_arguments.<locals>.decorate.<locals>.wrapper\u001b[1;34m(*args, **kwargs)\u001b[0m\n\u001b[0;32m    305\u001b[0m \u001b[39mif\u001b[39;00m \u001b[39mlen\u001b[39m(args) \u001b[39m>\u001b[39m num_allow_args:\n\u001b[0;32m    306\u001b[0m     warnings\u001b[39m.\u001b[39mwarn(\n\u001b[0;32m    307\u001b[0m         msg\u001b[39m.\u001b[39mformat(arguments\u001b[39m=\u001b[39marguments),\n\u001b[0;32m    308\u001b[0m         \u001b[39mFutureWarning\u001b[39;00m,\n\u001b[0;32m    309\u001b[0m         stacklevel\u001b[39m=\u001b[39mstacklevel,\n\u001b[0;32m    310\u001b[0m     )\n\u001b[1;32m--> 311\u001b[0m \u001b[39mreturn\u001b[39;00m func(\u001b[39m*\u001b[39margs, \u001b[39m*\u001b[39m\u001b[39m*\u001b[39mkwargs)\n",
      "File \u001b[1;32mc:\\Users\\Equipo\\AppData\\Local\\Programs\\Python\\Python39\\lib\\site-packages\\pandas\\core\\frame.py:4948\u001b[0m, in \u001b[0;36mDataFrame.drop\u001b[1;34m(self, labels, axis, index, columns, level, inplace, errors)\u001b[0m\n\u001b[0;32m   4800\u001b[0m \u001b[39m@deprecate_nonkeyword_arguments\u001b[39m(version\u001b[39m=\u001b[39m\u001b[39mNone\u001b[39;00m, allowed_args\u001b[39m=\u001b[39m[\u001b[39m\"\u001b[39m\u001b[39mself\u001b[39m\u001b[39m\"\u001b[39m, \u001b[39m\"\u001b[39m\u001b[39mlabels\u001b[39m\u001b[39m\"\u001b[39m])\n\u001b[0;32m   4801\u001b[0m \u001b[39mdef\u001b[39;00m \u001b[39mdrop\u001b[39m(\n\u001b[0;32m   4802\u001b[0m     \u001b[39mself\u001b[39m,\n\u001b[1;32m   (...)\u001b[0m\n\u001b[0;32m   4809\u001b[0m     errors: \u001b[39mstr\u001b[39m \u001b[39m=\u001b[39m \u001b[39m\"\u001b[39m\u001b[39mraise\u001b[39m\u001b[39m\"\u001b[39m,\n\u001b[0;32m   4810\u001b[0m ):\n\u001b[0;32m   4811\u001b[0m     \u001b[39m\"\"\"\u001b[39;00m\n\u001b[0;32m   4812\u001b[0m \u001b[39m    Drop specified labels from rows or columns.\u001b[39;00m\n\u001b[0;32m   4813\u001b[0m \n\u001b[1;32m   (...)\u001b[0m\n\u001b[0;32m   4946\u001b[0m \u001b[39m            weight  1.0     0.8\u001b[39;00m\n\u001b[0;32m   4947\u001b[0m \u001b[39m    \"\"\"\u001b[39;00m\n\u001b[1;32m-> 4948\u001b[0m     \u001b[39mreturn\u001b[39;00m \u001b[39msuper\u001b[39;49m()\u001b[39m.\u001b[39;49mdrop(\n\u001b[0;32m   4949\u001b[0m         labels\u001b[39m=\u001b[39;49mlabels,\n\u001b[0;32m   4950\u001b[0m         axis\u001b[39m=\u001b[39;49maxis,\n\u001b[0;32m   4951\u001b[0m         index\u001b[39m=\u001b[39;49mindex,\n\u001b[0;32m   4952\u001b[0m         columns\u001b[39m=\u001b[39;49mcolumns,\n\u001b[0;32m   4953\u001b[0m         level\u001b[39m=\u001b[39;49mlevel,\n\u001b[0;32m   4954\u001b[0m         inplace\u001b[39m=\u001b[39;49minplace,\n\u001b[0;32m   4955\u001b[0m         errors\u001b[39m=\u001b[39;49merrors,\n\u001b[0;32m   4956\u001b[0m     )\n",
      "File \u001b[1;32mc:\\Users\\Equipo\\AppData\\Local\\Programs\\Python\\Python39\\lib\\site-packages\\pandas\\core\\generic.py:4279\u001b[0m, in \u001b[0;36mNDFrame.drop\u001b[1;34m(self, labels, axis, index, columns, level, inplace, errors)\u001b[0m\n\u001b[0;32m   4277\u001b[0m \u001b[39mfor\u001b[39;00m axis, labels \u001b[39min\u001b[39;00m axes\u001b[39m.\u001b[39mitems():\n\u001b[0;32m   4278\u001b[0m     \u001b[39mif\u001b[39;00m labels \u001b[39mis\u001b[39;00m \u001b[39mnot\u001b[39;00m \u001b[39mNone\u001b[39;00m:\n\u001b[1;32m-> 4279\u001b[0m         obj \u001b[39m=\u001b[39m obj\u001b[39m.\u001b[39;49m_drop_axis(labels, axis, level\u001b[39m=\u001b[39;49mlevel, errors\u001b[39m=\u001b[39;49merrors)\n\u001b[0;32m   4281\u001b[0m \u001b[39mif\u001b[39;00m inplace:\n\u001b[0;32m   4282\u001b[0m     \u001b[39mself\u001b[39m\u001b[39m.\u001b[39m_update_inplace(obj)\n",
      "File \u001b[1;32mc:\\Users\\Equipo\\AppData\\Local\\Programs\\Python\\Python39\\lib\\site-packages\\pandas\\core\\generic.py:4323\u001b[0m, in \u001b[0;36mNDFrame._drop_axis\u001b[1;34m(self, labels, axis, level, errors, consolidate, only_slice)\u001b[0m\n\u001b[0;32m   4321\u001b[0m         new_axis \u001b[39m=\u001b[39m axis\u001b[39m.\u001b[39mdrop(labels, level\u001b[39m=\u001b[39mlevel, errors\u001b[39m=\u001b[39merrors)\n\u001b[0;32m   4322\u001b[0m     \u001b[39melse\u001b[39;00m:\n\u001b[1;32m-> 4323\u001b[0m         new_axis \u001b[39m=\u001b[39m axis\u001b[39m.\u001b[39;49mdrop(labels, errors\u001b[39m=\u001b[39;49merrors)\n\u001b[0;32m   4324\u001b[0m     indexer \u001b[39m=\u001b[39m axis\u001b[39m.\u001b[39mget_indexer(new_axis)\n\u001b[0;32m   4326\u001b[0m \u001b[39m# Case for non-unique axis\u001b[39;00m\n\u001b[0;32m   4327\u001b[0m \u001b[39melse\u001b[39;00m:\n",
      "File \u001b[1;32mc:\\Users\\Equipo\\AppData\\Local\\Programs\\Python\\Python39\\lib\\site-packages\\pandas\\core\\indexes\\base.py:6644\u001b[0m, in \u001b[0;36mIndex.drop\u001b[1;34m(self, labels, errors)\u001b[0m\n\u001b[0;32m   6642\u001b[0m \u001b[39mif\u001b[39;00m mask\u001b[39m.\u001b[39many():\n\u001b[0;32m   6643\u001b[0m     \u001b[39mif\u001b[39;00m errors \u001b[39m!=\u001b[39m \u001b[39m\"\u001b[39m\u001b[39mignore\u001b[39m\u001b[39m\"\u001b[39m:\n\u001b[1;32m-> 6644\u001b[0m         \u001b[39mraise\u001b[39;00m \u001b[39mKeyError\u001b[39;00m(\u001b[39mf\u001b[39m\u001b[39m\"\u001b[39m\u001b[39m{\u001b[39;00m\u001b[39mlist\u001b[39m(labels[mask])\u001b[39m}\u001b[39;00m\u001b[39m not found in axis\u001b[39m\u001b[39m\"\u001b[39m)\n\u001b[0;32m   6645\u001b[0m     indexer \u001b[39m=\u001b[39m indexer[\u001b[39m~\u001b[39mmask]\n\u001b[0;32m   6646\u001b[0m \u001b[39mreturn\u001b[39;00m \u001b[39mself\u001b[39m\u001b[39m.\u001b[39mdelete(indexer)\n",
      "\u001b[1;31mKeyError\u001b[0m: \"['duration'] not found in axis\""
     ]
    }
   ],
   "source": [
    "#Eliminamos el campo duration ya que no se va a usar en adelante\n",
    "df_movies.drop(['duration'], axis = 'columns', inplace=True) \n",
    "df_movies.head(5) # verificamos que el campo duration fue eliminado"
   ]
  },
  {
   "cell_type": "code",
   "execution_count": 125,
   "metadata": {},
   "outputs": [
    {
     "name": "stdout",
     "output_type": "stream",
     "text": [
      "object \n",
      "\n"
     ]
    }
   ],
   "source": [
    "print(df_movies['duration_int'].dtypes, \"\\n\")  #Verificamos el tipo de datos del campo duration_int antes de la trasnformación"
   ]
  },
  {
   "cell_type": "code",
   "execution_count": 126,
   "metadata": {},
   "outputs": [
    {
     "name": "stdout",
     "output_type": "stream",
     "text": [
      "int32 \n",
      "\n"
     ]
    }
   ],
   "source": [
    "df_movies.fillna({'duration_int': '0'}, inplace=True)             # Sustituimos los valores nulos (NaN) del campo  por ceros\n",
    "df_movies['duration_int'] = df_movies['duration_int'].astype(int) # Convertimos el tpo del campo a  entero\n",
    "print(df_movies['duration_int'].dtypes, \"\\n\")     #Verificamos el tipo de datos del campo duration_int despues de la trasnformación"
   ]
  },
  {
   "cell_type": "code",
   "execution_count": 133,
   "metadata": {},
   "outputs": [
    {
     "name": "stdout",
     "output_type": "stream",
     "text": [
      "0        True\n",
      "1        True\n",
      "2        True\n",
      "3        True\n",
      "4        True\n",
      "        ...  \n",
      "8802    False\n",
      "8803    False\n",
      "8804     True\n",
      "8805    False\n",
      "8806     True\n",
      "Name: title, Length: 22998, dtype: bool\n"
     ]
    }
   ],
   "source": [
    "plataforma = 'netflix'\n",
    "id_plataforma = plataforma[0]\n",
    "conta=df_movies.title.str.contains(id_plataforma)\n",
    "print(conta)\n"
   ]
  },
  {
   "cell_type": "code",
   "execution_count": 127,
   "metadata": {},
   "outputs": [],
   "source": [
    "df_movies.to_csv('movies02.csv', header=True, index=False)"
   ]
  }
 ],
 "metadata": {
  "kernelspec": {
   "display_name": "Python 3",
   "language": "python",
   "name": "python3"
  },
  "language_info": {
   "codemirror_mode": {
    "name": "ipython",
    "version": 3
   },
   "file_extension": ".py",
   "mimetype": "text/x-python",
   "name": "python",
   "nbconvert_exporter": "python",
   "pygments_lexer": "ipython3",
   "version": "3.9.7"
  },
  "orig_nbformat": 4,
  "vscode": {
   "interpreter": {
    "hash": "16532c3f4e797c2283da1d94df152728ed593c49c2c281ecaf73c87d43f97e77"
   }
  }
 },
 "nbformat": 4,
 "nbformat_minor": 2
}
