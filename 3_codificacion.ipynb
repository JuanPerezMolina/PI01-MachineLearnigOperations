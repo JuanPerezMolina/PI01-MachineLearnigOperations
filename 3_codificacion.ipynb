{
 "cells": [
  {
   "cell_type": "markdown",
   "metadata": {},
   "source": [
    "# Preprocesamiento de datos"
   ]
  },
  {
   "cell_type": "markdown",
   "metadata": {},
   "source": [
    "## Codificación de variables categóricas"
   ]
  },
  {
   "cell_type": "code",
   "execution_count": null,
   "metadata": {},
   "outputs": [],
   "source": [
    "'''\n",
    "\n",
    "\n",
    "'''\n",
    "import pandas as pd\n",
    "#import numpy as np\n",
    "#import matplotlib.pyplot as plt\n",
    "#import seaborn as sns"
   ]
  },
  {
   "attachments": {},
   "cell_type": "markdown",
   "metadata": {},
   "source": [
    "Identificamos  las variables categóricas  nominales  así que usaremos LabelEncoder para pasar categoricas  a valores numéricos.\n",
    "- type:categorica ordinal.\n",
    "- rating: categorica ordinal.\n",
    "- listed_in: categorica no ordinal.\n",
    "- id: categorica no ordinal\n",
    "\n",
    "Las siguientes variables del dataframe scores (reviews) no requieren codificación: \n",
    "- userId: numerico entero\n",
    "- score: numerico punto flotante\n"
   ]
  },
  {
   "cell_type": "code",
   "execution_count": 32,
   "metadata": {},
   "outputs": [],
   "source": [
    "#Cargamos el archivo con el campo review_scores normalizado\n",
    "df_movies_training = pd.read_csv('datasets/movies_normalizadas.csv')\n",
    "df_movies_test = pd.read_csv('datasets/movies_normalizadas.csv')\n",
    "\n",
    "df_rating01 = pd.read_csv('datasets//ratings//1.csv')\n",
    "df_rating02 = pd.read_csv('datasets//ratings//2.csv')\n",
    "\n",
    "# Renombramos el campo 'rating' como 'score'\n",
    "df_rating01 = df_rating01.rename(columns={'rating': 'score'})\n",
    "df_rating02 = df_rating02.rename(columns={'rating': 'score'})"
   ]
  },
  {
   "cell_type": "code",
   "execution_count": 33,
   "metadata": {},
   "outputs": [],
   "source": [
    "# Un merge de los dos dataframes utilizando el campo 'id' y 'movieId' como llaves de unión\n",
    "df_movies_training = df_movies_training.merge(df_rating01[['movieId', 'score','userId']], left_on='id', right_on='movieId', how='left')\n",
    "# Eliminamos el campo 'movieId'\n",
    "df_movies_training = df_movies_training.drop('movieId', axis=1)"
   ]
  },
  {
   "cell_type": "code",
   "execution_count": 34,
   "metadata": {},
   "outputs": [],
   "source": [
    "# la misma operacion para preparar los datos de prueba\n",
    "df_movies_test = df_movies_test.merge(df_rating02[['movieId', 'score','userId']], left_on='id', right_on='movieId', how='left')\n",
    "# Eliminamos el campo 'movieId'\n",
    "df_movies_test = df_movies_test.drop('movieId', axis=1)"
   ]
  },
  {
   "cell_type": "code",
   "execution_count": 35,
   "metadata": {},
   "outputs": [],
   "source": [
    "from sklearn import preprocessing\n",
    "from sklearn.preprocessing import LabelEncoder\n",
    "le = LabelEncoder()\n",
    "df_movies_training['type2'] = le.fit_transform(df_movies_training['type'])\n",
    "df_movies_training['rating2'] = le.fit_transform(df_movies_training['rating'])\n",
    "df_movies_training['listed_in2'] = le.fit_transform(df_movies_training['listed_in'])\n",
    "df_movies_training['id2'] = le.fit_transform(df_movies_training['id'])"
   ]
  },
  {
   "cell_type": "code",
   "execution_count": 36,
   "metadata": {},
   "outputs": [
    {
     "name": "stdout",
     "output_type": "stream",
     "text": [
      "<class 'pandas.core.frame.DataFrame'>\n",
      "Int64Index: 1340706 entries, 0 to 1340705\n",
      "Data columns (total 24 columns):\n",
      " #   Column         Non-Null Count    Dtype  \n",
      "---  ------         --------------    -----  \n",
      " 0   Unnamed: 0.2   1340706 non-null  int64  \n",
      " 1   Unnamed: 0.1   1340706 non-null  int64  \n",
      " 2   Unnamed: 0     1340706 non-null  int64  \n",
      " 3   show_id        1340706 non-null  object \n",
      " 4   type           1340706 non-null  object \n",
      " 5   title          1340706 non-null  object \n",
      " 6   director       1340706 non-null  object \n",
      " 7   cast           1340706 non-null  object \n",
      " 8   country        1340706 non-null  object \n",
      " 9   date_added     1297619 non-null  object \n",
      " 10  release_year   1340706 non-null  int64  \n",
      " 11  rating         1340706 non-null  object \n",
      " 12  listed_in      1340706 non-null  object \n",
      " 13  description    1340462 non-null  object \n",
      " 14  id             1340706 non-null  object \n",
      " 15  duration_int   1340706 non-null  int64  \n",
      " 16  duration_type  1310794 non-null  object \n",
      " 17  review_score   1340706 non-null  float64\n",
      " 18  score          1340706 non-null  float64\n",
      " 19  userId         1340706 non-null  int64  \n",
      " 20  type2          1340706 non-null  int32  \n",
      " 21  rating2        1340706 non-null  int32  \n",
      " 22  listed_in2     1340706 non-null  int32  \n",
      " 23  id2            1340706 non-null  int32  \n",
      "dtypes: float64(2), int32(4), int64(6), object(12)\n",
      "memory usage: 235.3+ MB\n"
     ]
    }
   ],
   "source": [
    "df_movies_training.info()"
   ]
  },
  {
   "cell_type": "code",
   "execution_count": 37,
   "metadata": {},
   "outputs": [],
   "source": [
    "#Almacenamos los cambios hechos sobre el dataframe en un archivo llamado train_codificado.csv\n",
    "df_movies_training.to_csv('datasets/train_codificado.csv')"
   ]
  },
  {
   "cell_type": "markdown",
   "metadata": {},
   "source": [
    "## Seleccion de atributos (campos) relevantes"
   ]
  },
  {
   "attachments": {},
   "cell_type": "markdown",
   "metadata": {},
   "source": [
    "Los siguientes campos son considerados relevantes para efectos de determinar la recomendación de una película: type, rating, listed_in, userId, score, movieID.\n",
    "\n",
    "Asi que procederemos a eliminar el resto de los campos del Dataframe"
   ]
  },
  {
   "cell_type": "code",
   "execution_count": null,
   "metadata": {},
   "outputs": [],
   "source": [
    "df_movies_training = pd.read_csv('datasets/train_codificado')"
   ]
  },
  {
   "cell_type": "code",
   "execution_count": 38,
   "metadata": {},
   "outputs": [],
   "source": [
    "# crear un dataframe a partir de las columnas (variables) relevantes y asi se eliminan las restantes\n",
    "df_train_relevantes = df_movies_training[['type2', 'rating2', 'listed_in2', 'id2', 'userId','score']]\n"
   ]
  },
  {
   "cell_type": "code",
   "execution_count": 39,
   "metadata": {},
   "outputs": [
    {
     "name": "stdout",
     "output_type": "stream",
     "text": [
      "<class 'pandas.core.frame.DataFrame'>\n",
      "Int64Index: 1340706 entries, 0 to 1340705\n",
      "Data columns (total 6 columns):\n",
      " #   Column      Non-Null Count    Dtype  \n",
      "---  ------      --------------    -----  \n",
      " 0   type2       1340706 non-null  int32  \n",
      " 1   rating2     1340706 non-null  int32  \n",
      " 2   listed_in2  1340706 non-null  int32  \n",
      " 3   id2         1340706 non-null  int32  \n",
      " 4   userId      1340706 non-null  int64  \n",
      " 5   score       1340706 non-null  float64\n",
      "dtypes: float64(1), int32(4), int64(1)\n",
      "memory usage: 51.1 MB\n"
     ]
    }
   ],
   "source": [
    "df_train_relevantes.info()"
   ]
  },
  {
   "cell_type": "code",
   "execution_count": null,
   "metadata": {},
   "outputs": [],
   "source": [
    "#Almacenamos los cambios hechos sobre el dataframe en un archivo llamado train_relevantes.csv\n",
    "df_train_relevantes.to_csv('DataSets/train_relevantes.csv')"
   ]
  }
 ],
 "metadata": {
  "kernelspec": {
   "display_name": "Python 3 (ipykernel)",
   "language": "python",
   "name": "python3"
  },
  "language_info": {
   "codemirror_mode": {
    "name": "ipython",
    "version": 3
   },
   "file_extension": ".py",
   "mimetype": "text/x-python",
   "name": "python",
   "nbconvert_exporter": "python",
   "pygments_lexer": "ipython3",
   "version": "3.9.7"
  },
  "vscode": {
   "interpreter": {
    "hash": "16532c3f4e797c2283da1d94df152728ed593c49c2c281ecaf73c87d43f97e77"
   }
  }
 },
 "nbformat": 4,
 "nbformat_minor": 4
}
