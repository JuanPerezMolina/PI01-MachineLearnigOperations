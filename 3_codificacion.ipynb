{
 "cells": [
  {
   "cell_type": "markdown",
   "metadata": {},
   "source": [
    "# Preprocesamiento de datos"
   ]
  },
  {
   "cell_type": "markdown",
   "metadata": {},
   "source": [
    "## Codificación de variables categóricas"
   ]
  },
  {
   "cell_type": "code",
   "execution_count": null,
   "metadata": {},
   "outputs": [],
   "source": [
    "'''\n",
    "\n",
    "\n",
    "'''\n",
    "import pandas as pd\n",
    "#import numpy as np\n",
    "#import matplotlib.pyplot as plt\n",
    "#import seaborn as sns"
   ]
  },
  {
   "attachments": {},
   "cell_type": "markdown",
   "metadata": {},
   "source": [
    "Identificamos  las variables categóricas  nominales  así que usaremos LabelEncoder para pasar categoricas  a valores numéricos.\n",
    "- type:categorica ordinal.\n",
    "- rating: categorica ordinal.\n",
    "- listed_in: categorica no ordinal.\n",
    "- id: categorica no ordinal\n",
    "\n",
    "Las siguientes variables del dataframe scores (reviews) no requieren codificación: \n",
    "- userId: numerico entero\n",
    "- score: numerico punto flotante\n"
   ]
  },
  {
   "cell_type": "code",
   "execution_count": null,
   "metadata": {},
   "outputs": [],
   "source": [
    "#Cargamos el archivo con el campo review_scores normalizado\n",
    "df_movies_training = pd.read_csv('datasets/movies_normalizadas.csv')\n",
    "df_movies_test = pd.read_csv('datasets/movies_normalizadas.csv')\n",
    "\n",
    "df_rating01 = pd.read_csv('datasets//ratings//1.csv')\n",
    "df_rating02 = pd.read_csv('datasets//ratings//2.csv')\n",
    "\n",
    "# Renombramos el campo 'rating' como 'score'\n",
    "df_rating01 = df_rating01.rename(columns={'rating': 'score'})\n",
    "df_rating02 = df_rating02.rename(columns={'rating': 'score'})"
   ]
  },
  {
   "cell_type": "code",
   "execution_count": null,
   "metadata": {},
   "outputs": [],
   "source": [
    "# Un merge de los dos dataframes utilizando el campo 'id' y 'movieId' como llaves de unión\n",
    "df_movies_training = df_movies_training.merge(df_rating01[['movieId', 'score','userId']], left_on='id', right_on='movieId', how='left')\n",
    "# Eliminamos el campo 'movieId'\n",
    "df_movies_training = df_movies_training.drop('movieId', axis=1)"
   ]
  },
  {
   "cell_type": "code",
   "execution_count": null,
   "metadata": {},
   "outputs": [],
   "source": [
    "# la misma operacion para preparar los datos de prueba\n",
    "df_movies_test = df_movies_test.merge(df_rating02[['movieId', 'score','userId']], left_on='id', right_on='movieId', how='left')\n",
    "# Eliminamos el campo 'movieId'\n",
    "df_movies_test = df_movies_test.drop('movieId', axis=1)"
   ]
  },
  {
   "cell_type": "code",
   "execution_count": null,
   "metadata": {},
   "outputs": [],
   "source": [
    "from sklearn import preprocessing\n",
    "from sklearn.preprocessing import LabelEncoder\n",
    "le = LabelEncoder()\n",
    "df_movies_training['type2'] = le.fit_transform(df_movies_training['type'])\n",
    "df_movies_training['rating2'] = le.fit_transform(df_movies_training['rating'])\n",
    "df_movies_training['listed_in2'] = le.fit_transform(df_movies_training['listed_in'])\n",
    "df_movies_training['id2'] = le.fit_transform(df_movies_training['id'])"
   ]
  },
  {
   "cell_type": "code",
   "execution_count": null,
   "metadata": {},
   "outputs": [],
   "source": [
    "df_movies_training.info()"
   ]
  },
  {
   "cell_type": "code",
   "execution_count": null,
   "metadata": {},
   "outputs": [],
   "source": [
    "#Almacenamos los cambios hechos sobre el dataframe en un archivo llamado train_codificado.csv\n",
    "df_movies_training.to_csv('datasets/train_codificado.csv', header=True, index=False)"
   ]
  },
  {
   "cell_type": "markdown",
   "metadata": {},
   "source": [
    "## Seleccion de atributos (campos) relevantes"
   ]
  },
  {
   "attachments": {},
   "cell_type": "markdown",
   "metadata": {},
   "source": [
    "Los siguientes campos son considerados relevantes para efectos de determinar la recomendación de una película: type, rating, listed_in, userId, score, movieID.\n",
    "\n",
    "Asi que procederemos a eliminar el resto de los campos del Dataframe"
   ]
  },
  {
   "cell_type": "code",
   "execution_count": null,
   "metadata": {},
   "outputs": [],
   "source": [
    "df_movies_training = pd.read_csv('datasets/train_codificado.csv')"
   ]
  },
  {
   "cell_type": "code",
   "execution_count": 18,
   "metadata": {},
   "outputs": [],
   "source": [
    "# crear un dataframe a partir de las columnas (variables) relevantes y asi se eliminan las restantes\n",
    "df_train_relevantes = df_movies_training[['type2', 'rating2', 'listed_in2', 'id2', 'userId','score','review_score']]\n",
    "df_train_relevantes = df_train_relevantes.drop('review_score', axis=1)\n",
    "df_train_relevantes = df_train_relevantes.assign(review_score=0.0)"
   ]
  },
  {
   "cell_type": "code",
   "execution_count": 19,
   "metadata": {},
   "outputs": [
    {
     "name": "stdout",
     "output_type": "stream",
     "text": [
      "<class 'pandas.core.frame.DataFrame'>\n",
      "RangeIndex: 1500000 entries, 0 to 1499999\n",
      "Data columns (total 7 columns):\n",
      " #   Column        Non-Null Count    Dtype  \n",
      "---  ------        --------------    -----  \n",
      " 0   type2         1500000 non-null  int64  \n",
      " 1   rating2       1500000 non-null  int64  \n",
      " 2   listed_in2    1500000 non-null  int64  \n",
      " 3   id2           1500000 non-null  int64  \n",
      " 4   userId        1500000 non-null  int64  \n",
      " 5   score         1500000 non-null  float64\n",
      " 6   review_score  1500000 non-null  float64\n",
      "dtypes: float64(2), int64(5)\n",
      "memory usage: 80.1 MB\n"
     ]
    }
   ],
   "source": [
    "df_train_relevantes.info()"
   ]
  },
  {
   "cell_type": "code",
   "execution_count": 20,
   "metadata": {},
   "outputs": [],
   "source": [
    "#Almacenamos los cambios hechos sobre el dataframe en un archivo llamado train_relevantes.csv\n",
    "df_train_relevantes.to_csv('DataSets/train_relevantes.csv', header=True, index=False)"
   ]
  }
 ],
 "metadata": {
  "kernelspec": {
   "display_name": "Python 3 (ipykernel)",
   "language": "python",
   "name": "python3"
  },
  "language_info": {
   "codemirror_mode": {
    "name": "ipython",
    "version": 3
   },
   "file_extension": ".py",
   "mimetype": "text/x-python",
   "name": "python",
   "nbconvert_exporter": "python",
   "pygments_lexer": "ipython3",
   "version": "3.9.7"
  },
  "vscode": {
   "interpreter": {
    "hash": "16532c3f4e797c2283da1d94df152728ed593c49c2c281ecaf73c87d43f97e77"
   }
  }
 },
 "nbformat": 4,
 "nbformat_minor": 4
}
