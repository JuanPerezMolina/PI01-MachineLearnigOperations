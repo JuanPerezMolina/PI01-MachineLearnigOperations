{
 "cells": [
  {
   "cell_type": "markdown",
   "metadata": {},
   "source": [
    "# Preprocesamiento de datos"
   ]
  },
  {
   "cell_type": "markdown",
   "metadata": {},
   "source": [
    "## Escalado de variables categorizadas"
   ]
  },
  {
   "cell_type": "code",
   "execution_count": 1,
   "metadata": {},
   "outputs": [],
   "source": [
    "'''\n",
    "\n",
    "\n",
    "'''\n",
    "import pandas as pd\n",
    "import numpy as np\n",
    "import matplotlib.pyplot as plt\n",
    "import seaborn as sns"
   ]
  },
  {
   "attachments": {},
   "cell_type": "markdown",
   "metadata": {},
   "source": [
    "Usaremos el método del escalado que consiste en transformar la variable (campo) que nos interesa para que tenga un valor medio de 0 y una desviación estándar de 1. Para ello usaremos la clase `Standard Scaler` de Scikit-learn"
   ]
  },
  {
   "cell_type": "code",
   "execution_count": 8,
   "metadata": {},
   "outputs": [],
   "source": [
    "#Cargamos el archivo limpio\n",
    "df_movies = pd.read_csv('datasets\\\\movies_sin_outliers.csv')"
   ]
  },
  {
   "cell_type": "code",
   "execution_count": 4,
   "metadata": {},
   "outputs": [],
   "source": [
    "# Probamos el primer método sobre las variables (campos) que nos interesan: \n",
    "from sklearn.preprocessing import StandardScaler"
   ]
  },
  {
   "cell_type": "code",
   "execution_count": 9,
   "metadata": {},
   "outputs": [
    {
     "name": "stdout",
     "output_type": "stream",
     "text": [
      "<class 'pandas.core.frame.DataFrame'>\n",
      "RangeIndex: 20536 entries, 0 to 20535\n",
      "Data columns (total 17 columns):\n",
      " #   Column         Non-Null Count  Dtype  \n",
      "---  ------         --------------  -----  \n",
      " 0   Unnamed: 0.1   20536 non-null  int64  \n",
      " 1   Unnamed: 0     20536 non-null  int64  \n",
      " 2   show_id        20536 non-null  object \n",
      " 3   type           20536 non-null  object \n",
      " 4   title          20536 non-null  object \n",
      " 5   director       20536 non-null  object \n",
      " 6   cast           20536 non-null  object \n",
      " 7   country        20536 non-null  object \n",
      " 8   date_added     19868 non-null  object \n",
      " 9   release_year   20536 non-null  int64  \n",
      " 10  rating         20536 non-null  object \n",
      " 11  listed_in      20536 non-null  object \n",
      " 12  description    20532 non-null  object \n",
      " 13  id             20536 non-null  object \n",
      " 14  duration_int   20536 non-null  int64  \n",
      " 15  duration_type  20076 non-null  object \n",
      " 16  review_score   20536 non-null  float64\n",
      "dtypes: float64(1), int64(4), object(12)\n",
      "memory usage: 2.7+ MB\n"
     ]
    }
   ],
   "source": [
    "df_movies.info()"
   ]
  },
  {
   "cell_type": "code",
   "execution_count": 10,
   "metadata": {},
   "outputs": [
    {
     "data": {
      "text/plain": [
       "3.5    12088\n",
       "3.6     7409\n",
       "3.4      876\n",
       "3.7      159\n",
       "3.3        4\n",
       "Name: review_score, dtype: int64"
      ]
     },
     "execution_count": 10,
     "metadata": {},
     "output_type": "execute_result"
    }
   ],
   "source": [
    "# Veamos los valores que asume review_score\n",
    "df_movies.review_score.value_counts()"
   ]
  },
  {
   "cell_type": "code",
   "execution_count": 11,
   "metadata": {},
   "outputs": [
    {
     "data": {
      "image/png": "[encoded data removed]",
      "text/plain": [
       "<Figure size 432x288 with 1 Axes>"
      ]
     },
     "metadata": {
      "needs_background": "light"
     },
     "output_type": "display_data"
    }
   ],
   "source": [
    "# Trabajaremos primero con la variable score_review. Veamos su distribución\n",
    "plt.hist(df_movies['review_score']) \n",
    "plt.show()"
   ]
  },
  {
   "cell_type": "code",
   "execution_count": 12,
   "metadata": {},
   "outputs": [],
   "source": [
    "# Escalamos la variable review_score\n",
    "scaler = StandardScaler()\n",
    "scaler.fit(df_movies[['review_score']])\n",
    "df_movies['review_score'] = scaler.transform(df_movies[['review_score']])"
   ]
  },
  {
   "cell_type": "code",
   "execution_count": 13,
   "metadata": {},
   "outputs": [
    {
     "data": {
      "image/png": "[encoded data removed]",
      "text/plain": [
       "<Figure size 432x288 with 1 Axes>"
      ]
     },
     "metadata": {
      "needs_background": "light"
     },
     "output_type": "display_data"
    }
   ],
   "source": [
    "# Observamos cómo quedó la distribución de la variable review_score luego de escalar\n",
    "plt.hist(df_movies['review_score']) \n",
    "plt.show()"
   ]
  },
  {
   "cell_type": "markdown",
   "metadata": {},
   "source": [
    "*Se puede observa gráficamente que tenemos una media de 0 y una desviación estándar de 1.*"
   ]
  },
  {
   "cell_type": "code",
   "execution_count": null,
   "metadata": {},
   "outputs": [],
   "source": [
    "#Hacemos una copia de respaldo de los cambios realizados al dataset\n",
    "df_movies.to_csv('datasets/movies_normalizadas.csv')"
   ]
  }
 ],
 "metadata": {
  "kernelspec": {
   "display_name": "Python 3 (ipykernel)",
   "language": "python",
   "name": "python3"
  },
  "language_info": {
   "codemirror_mode": {
    "name": "ipython",
    "version": 3
   },
   "file_extension": ".py",
   "mimetype": "text/x-python",
   "name": "python",
   "nbconvert_exporter": "python",
   "pygments_lexer": "ipython3",
   "version": "3.9.7"
  },
  "vscode": {
   "interpreter": {
    "hash": "16532c3f4e797c2283da1d94df152728ed593c49c2c281ecaf73c87d43f97e77"
   }
  }
 },
 "nbformat": 4,
 "nbformat_minor": 4
}
