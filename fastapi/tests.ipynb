{
 "cells": [
  {
   "cell_type": "code",
   "execution_count": 3,
   "metadata": {},
   "outputs": [],
   "source": [
    "import pandas as pd"
   ]
  },
  {
   "cell_type": "code",
   "execution_count": 42,
   "metadata": {},
   "outputs": [
    {
     "data": {
      "text/plain": [
       "'national parks adventure'"
      ]
     },
     "execution_count": 42,
     "metadata": {},
     "output_type": "execute_result"
    }
   ],
   "source": [
    "df_movies = pd.read_csv('..\\Datasets\\movies.csv')\n",
    "keyword = 'love'\n",
    "plataforma = 'netflix'\n",
    "score=85\n",
    "anno=2016\n",
    "tipo_duracion = 'min'\n",
    "id_plataforma = plataforma[0].lower()\n",
    "clasificacion = '18+'\n",
    "# Creamos un dataframe df_plataforma solo con los registros de la plataforma indicada\n",
    "df_plataforma = df_movies[df_movies['title'].str[0] == id_plataforma] \n",
    "# Creamos un dataframe a partir de df_dataframe solo con las condiciones solicitadas\n",
    "df_filtered = df_plataforma[(df_plataforma['duration_type']==tipo_duracion)&(df_plataforma['release_year']==anno)] \n",
    "# Ordenamos  df_filtered desendentemente por la columna duration_int \n",
    "df_filtered = df_filtered.sort_values(by=['duration_int'], ascending=[False])\n",
    "pelicula_larga = df_filtered.iloc[0, df_filtered.columns.get_loc('title')]\n",
    "pelicula_larga"
   ]
  }
 ],
 "metadata": {
  "kernelspec": {
   "display_name": "Python 3",
   "language": "python",
   "name": "python3"
  },
  "language_info": {
   "codemirror_mode": {
    "name": "ipython",
    "version": 3
   },
   "file_extension": ".py",
   "mimetype": "text/x-python",
   "name": "python",
   "nbconvert_exporter": "python",
   "pygments_lexer": "ipython3",
   "version": "3.9.7"
  },
  "orig_nbformat": 4,
  "vscode": {
   "interpreter": {
    "hash": "16532c3f4e797c2283da1d94df152728ed593c49c2c281ecaf73c87d43f97e77"
   }
  }
 },
 "nbformat": 4,
 "nbformat_minor": 2
}
